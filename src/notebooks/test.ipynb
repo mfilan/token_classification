{
 "cells": [
  {
   "cell_type": "code",
   "execution_count": 1,
   "outputs": [],
   "source": [
    "import os\n",
    "os.chdir(\"/Users/maciej.filanowicz/Desktop/token_classification/src\")"
   ],
   "metadata": {
    "collapsed": false,
    "pycharm": {
     "name": "#%%\n"
    }
   }
  },
  {
   "cell_type": "code",
   "execution_count": 2,
   "outputs": [],
   "source": [
    "from hydra import initialize, compose\n",
    "from hydra.utils import instantiate\n",
    "from hydra.core.config_store import ConfigStore\n",
    "from src.config import NERConfig\n",
    "from src.data import DocumentWarehouse, NERDataset\n",
    "from src.model import ModelTrainer\n",
    "from torch.utils.data import DataLoader\n",
    "import torch"
   ],
   "metadata": {
    "collapsed": false,
    "pycharm": {
     "name": "#%%\n"
    }
   }
  },
  {
   "cell_type": "code",
   "execution_count": 3,
   "outputs": [],
   "source": [
    "cs = ConfigStore.instance()\n",
    "cs.store(name='ner_config', node=NERConfig)"
   ],
   "metadata": {
    "collapsed": false,
    "pycharm": {
     "name": "#%%\n"
    }
   }
  },
  {
   "cell_type": "code",
   "execution_count": 4,
   "outputs": [],
   "source": [
    "initialize(version_base=\"1.2\", config_path=\"../conf\", job_name=\"test_app\")\n",
    "cfg  = compose(config_name=\"config2\", return_hydra_config=True)"
   ],
   "metadata": {
    "collapsed": false,
    "pycharm": {
     "name": "#%%\n"
    }
   }
  },
  {
   "cell_type": "code",
   "execution_count": 5,
   "outputs": [
    {
     "name": "stderr",
     "output_type": "stream",
     "text": [
      "Some weights of LayoutLMv3ForTokenClassification were not initialized from the model checkpoint at microsoft/layoutlmv3-base and are newly initialized: ['classifier.out_proj.bias', 'classifier.dense.bias', 'classifier.dense.weight', 'classifier.out_proj.weight']\n",
      "You should probably TRAIN this model on a down-stream task to be able to use it for predictions and inference.\n"
     ]
    }
   ],
   "source": [
    "model_handler = instantiate(cfg.model)"
   ],
   "metadata": {
    "collapsed": false,
    "pycharm": {
     "name": "#%%\n"
    }
   }
  },
  {
   "cell_type": "code",
   "execution_count": 6,
   "outputs": [],
   "source": [
    "device = torch.device('cpu')"
   ],
   "metadata": {
    "collapsed": false,
    "pycharm": {
     "name": "#%%\n"
    }
   }
  },
  {
   "cell_type": "code",
   "execution_count": 7,
   "outputs": [],
   "source": [
    "dataset = DocumentWarehouse(cfg.dataset.images_dir,\n",
    "                            cfg.dataset.annotations_dir).get_datasets(test_percentage=cfg.params.test_percentage,\n",
    "                                                                      validation_percentage=cfg.params.validation_percentage)\n",
    "train_dataset = NERDataset(dataset['train_dataset'], model_handler.processor, cfg.dataset.label2id)\n",
    "test_dataset = NERDataset(dataset['test_dataset'], model_handler.processor, cfg.dataset.label2id)\n",
    "validation_dataset = NERDataset(dataset['validation_dataset'], model_handler.processor, cfg.dataset.label2id)"
   ],
   "metadata": {
    "collapsed": false,
    "pycharm": {
     "name": "#%%\n"
    }
   }
  },
  {
   "cell_type": "code",
   "execution_count": 8,
   "outputs": [],
   "source": [
    "training_dataloader = DataLoader(train_dataset, batch_size=cfg.params.batch_size, shuffle=True)\n",
    "validation_dataloader = DataLoader(validation_dataset, batch_size=cfg.params.batch_size, shuffle=True)\n",
    "test_dataloader = DataLoader(test_dataset, batch_size=cfg.params.batch_size)"
   ],
   "metadata": {
    "collapsed": false,
    "pycharm": {
     "name": "#%%\n"
    }
   }
  },
  {
   "cell_type": "code",
   "execution_count": 9,
   "outputs": [],
   "source": [
    "# trainer = ModelTrainer(model=model_handler.model.to(device),\n",
    "#                        device=device,\n",
    "#                        training_dataloader=training_dataloader,\n",
    "#                        validation_dataloader=validation_dataloader,\n",
    "#                        test_dataloader=test_dataloader,\n",
    "#                        epochs=cfg.params.epoch_count,\n",
    "#                        use_wandb=True,\n",
    "#                        project_name=\"NERv3\",\n",
    "#                        labels=list(cfg.dataset.label2id.keys()))\n",
    "# trainer.run_trainer()"
   ],
   "metadata": {
    "collapsed": false,
    "pycharm": {
     "name": "#%%\n"
    }
   }
  }
 ],
 "metadata": {
  "kernelspec": {
   "display_name": "Python 3",
   "language": "python",
   "name": "python3"
  },
  "language_info": {
   "codemirror_mode": {
    "name": "ipython",
    "version": 2
   },
   "file_extension": ".py",
   "mimetype": "text/x-python",
   "name": "python",
   "nbconvert_exporter": "python",
   "pygments_lexer": "ipython2",
   "version": "2.7.6"
  }
 },
 "nbformat": 4,
 "nbformat_minor": 0
}