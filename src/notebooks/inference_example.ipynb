{
 "cells": [
  {
   "cell_type": "code",
   "execution_count": 1,
   "metadata": {
    "collapsed": false,
    "pycharm": {
     "name": "#%%\n"
    }
   },
   "outputs": [],
   "source": [
    "import os\n",
    "os.chdir(\"/Users/maciej.filanowicz/Desktop/token_classification\")"
   ]
  },
  {
   "cell_type": "code",
   "execution_count": 2,
   "metadata": {
    "collapsed": false,
    "pycharm": {
     "name": "#%%\n"
    }
   },
   "outputs": [],
   "source": [
    "from hydra import initialize, compose\n",
    "import json\n",
    "from src.inference import InferencePipeline\n",
    "from src.utils import visualize_predictions\n",
    "import torch\n",
    "from PIL import Image\n",
    "from transformers import LayoutLMv3Processor"
   ]
  },
  {
   "cell_type": "code",
   "execution_count": 3,
   "metadata": {
    "collapsed": false,
    "pycharm": {
     "name": "#%%\n"
    }
   },
   "outputs": [],
   "source": [
    "initialize(version_base=\"1.2\", config_path=\"../conf\", job_name=\"test_app\")\n",
    "cfg  = compose(config_name=\"config2\", return_hydra_config=True)"
   ]
  },
  {
   "cell_type": "code",
   "execution_count": 4,
   "metadata": {
    "collapsed": false,
    "pycharm": {
     "name": "#%%\n"
    }
   },
   "outputs": [],
   "source": [
    "device = torch.device('cpu')"
   ]
  },
  {
   "cell_type": "code",
   "execution_count": 5,
   "metadata": {
    "pycharm": {
     "name": "#%%\n"
    }
   },
   "outputs": [],
   "source": [
    "processor = LayoutLMv3Processor.from_pretrained(cfg.model.pretrained_model_name,\n",
    "                                                                 apply_ocr=False)"
   ]
  },
  {
   "cell_type": "code",
   "execution_count": 6,
   "outputs": [],
   "source": [
    "# with open('datasets/FUNSD/annotations/00070353.json','r') as fp:\n",
    "#     document = json.load(fp)\n",
    "# document_image = Image.open('datasets/FUNSD/images/00070353.png').convert('RGB')\n",
    "with open('datasets/FUNSD/annotations/01122115.json','r') as fp:\n",
    "    document = json.load(fp)\n",
    "document_image = Image.open('datasets/FUNSD/images/01122115.png').convert('RGB')"
   ],
   "metadata": {
    "collapsed": false,
    "pycharm": {
     "name": "#%%\n"
    }
   }
  },
  {
   "cell_type": "code",
   "execution_count": 7,
   "outputs": [
    {
     "name": "stderr",
     "output_type": "stream",
     "text": [
      "/Users/maciej.filanowicz/opt/anaconda3/envs/nlp/lib/python3.9/site-packages/transformers/modeling_utils.py:812: FutureWarning: The `device` argument is deprecated and will be removed in v5 of Transformers.\n",
      "  warnings.warn(\n"
     ]
    }
   ],
   "source": [
    "inference_pipeline = InferencePipeline(model_path='models/model.pth',\n",
    "                                       processor=processor,\n",
    "                                       device=device,\n",
    "                                       id2label=cfg.dataset.id2label)\n",
    "processed_output = inference_pipeline.predict([document_image],[document])[0]"
   ],
   "metadata": {
    "collapsed": false,
    "pycharm": {
     "name": "#%%\n"
    }
   }
  },
  {
   "cell_type": "code",
   "execution_count": 9,
   "outputs": [],
   "source": [
    "visualize_predictions(document_image,processed_output).save('example.png')"
   ],
   "metadata": {
    "collapsed": false,
    "pycharm": {
     "name": "#%%\n"
    }
   }
  },
  {
   "cell_type": "code",
   "execution_count": 8,
   "outputs": [],
   "source": [],
   "metadata": {
    "collapsed": false,
    "pycharm": {
     "name": "#%%\n"
    }
   }
  }
 ],
 "metadata": {
  "kernelspec": {
   "display_name": "Python 3.8.5 ('azureml_py38_PT_TF')",
   "language": "python",
   "name": "python3"
  },
  "language_info": {
   "codemirror_mode": {
    "name": "ipython",
    "version": 3
   },
   "file_extension": ".py",
   "mimetype": "text/x-python",
   "name": "python",
   "nbconvert_exporter": "python",
   "pygments_lexer": "ipython3",
   "version": "3.8.5"
  },
  "vscode": {
   "interpreter": {
    "hash": "9169f1d4e16acc976bbb73e323b0dbdf23f1c55e833fb2befffc4fb50ac2de2f"
   }
  }
 },
 "nbformat": 4,
 "nbformat_minor": 0
}